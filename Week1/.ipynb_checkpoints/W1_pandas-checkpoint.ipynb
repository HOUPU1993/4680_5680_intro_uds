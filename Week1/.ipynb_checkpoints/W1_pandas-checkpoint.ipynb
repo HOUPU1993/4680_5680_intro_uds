{
 "cells": [
  {
   "cell_type": "code",
   "execution_count": 2,
   "id": "capable-modern",
   "metadata": {},
   "outputs": [],
   "source": [
    "import pandas as pd\n",
    "import numpy as np"
   ]
  },
  {
   "cell_type": "markdown",
   "id": "clean-sessions",
   "metadata": {},
   "source": [
    "## Learning goals\n",
    "After this weeks lesson your should be able to:\n",
    "- Read and explore tabular data in Python (using the pandas library)\n",
    "- Write data to a .csv text file\n",
    "\n",
    "This week's lessons are based on: \n",
    "- [Geo-Python Lesson 5](https://geo-python-site.readthedocs.io/en/latest/lessons/L5/overview.html)"
   ]
  },
  {
   "cell_type": "markdown",
   "id": "iraqi-funds",
   "metadata": {},
   "source": [
    "## 1. What is Pandas? "
   ]
  },
  {
   "cell_type": "markdown",
   "id": "technological-queens",
   "metadata": {},
   "source": [
    "## 2. Reading and exploring data in Pandas"
   ]
  },
  {
   "cell_type": "markdown",
   "id": "compound-tampa",
   "metadata": {},
   "source": [
    "### 2.1 Pandas series"
   ]
  },
  {
   "cell_type": "markdown",
   "id": "built-integrity",
   "metadata": {},
   "source": [
    "### 2.2 Pandas Dataframes"
   ]
  },
  {
   "cell_type": "markdown",
   "id": "surface-miller",
   "metadata": {},
   "source": [
    "## 3. Reading and writing data to a `.csv` file "
   ]
  },
  {
   "cell_type": "code",
   "execution_count": null,
   "id": "spanish-contamination",
   "metadata": {},
   "outputs": [],
   "source": []
  }
 ],
 "metadata": {
  "kernelspec": {
   "display_name": "Python 3",
   "language": "python",
   "name": "python3"
  },
  "language_info": {
   "codemirror_mode": {
    "name": "ipython",
    "version": 3
   },
   "file_extension": ".py",
   "mimetype": "text/x-python",
   "name": "python",
   "nbconvert_exporter": "python",
   "pygments_lexer": "ipython3",
   "version": "3.8.8"
  }
 },
 "nbformat": 4,
 "nbformat_minor": 5
}
